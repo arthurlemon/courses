{
 "cells": [
  {
   "cell_type": "markdown",
   "id": "5a315a43-af38-44db-8769-88dbaf2bd6b0",
   "metadata": {
    "tags": []
   },
   "source": [
    "## Pytorch"
   ]
  },
  {
   "cell_type": "markdown",
   "id": "ee6b4868-f2d9-46c9-94a5-3f27c927bc55",
   "metadata": {
    "jp-MarkdownHeadingCollapsed": true,
    "tags": []
   },
   "source": [
    "### Basics"
   ]
  },
  {
   "cell_type": "code",
   "execution_count": 2,
   "id": "c4c44f13-0395-4f8f-b338-25df1f83f36e",
   "metadata": {},
   "outputs": [],
   "source": [
    "import torch\n",
    "import numpy as np"
   ]
  },
  {
   "cell_type": "code",
   "execution_count": 3,
   "id": "026d62d3-26aa-4e30-bceb-0c8c8c2ec916",
   "metadata": {},
   "outputs": [
    {
     "data": {
      "text/plain": [
       "<torch._C.Generator at 0x10e111c90>"
      ]
     },
     "execution_count": 3,
     "metadata": {},
     "output_type": "execute_result"
    }
   ],
   "source": [
    "SEED = 12\n",
    "np.random.seed(seed=SEED)\n",
    "torch.manual_seed(SEED)"
   ]
  },
  {
   "cell_type": "code",
   "execution_count": 6,
   "id": "ac1e69a6-5abe-4849-8bc3-468170d51b4e",
   "metadata": {},
   "outputs": [
    {
     "data": {
      "text/plain": [
       "torch.Size([2, 3])"
      ]
     },
     "execution_count": 6,
     "metadata": {},
     "output_type": "execute_result"
    }
   ],
   "source": [
    "x = torch.randn(2,3)\n",
    "x.shape"
   ]
  },
  {
   "cell_type": "code",
   "execution_count": 7,
   "id": "256f0e0e-9258-42df-a9c2-b1e60936c301",
   "metadata": {},
   "outputs": [
    {
     "data": {
      "text/plain": [
       "(tensor([0., 0.]), array([0., 0.]))"
      ]
     },
     "execution_count": 7,
     "metadata": {},
     "output_type": "execute_result"
    }
   ],
   "source": [
    "x = torch.zeros(2)\n",
    "n = np.zeros(2)\n",
    "x, n"
   ]
  },
  {
   "cell_type": "code",
   "execution_count": 8,
   "id": "ad3f2597-66c0-4f86-848b-46b4bd54c899",
   "metadata": {},
   "outputs": [
    {
     "data": {
      "text/plain": [
       "tensor([[1, 2, 3],\n",
       "        [3, 4, 5]])"
      ]
     },
     "execution_count": 8,
     "metadata": {},
     "output_type": "execute_result"
    }
   ],
   "source": [
    "torch.tensor([[1,2,3], [3,4,5]])"
   ]
  },
  {
   "cell_type": "code",
   "execution_count": 9,
   "id": "fce827d1-65f5-4a38-badb-dd672d4f4bed",
   "metadata": {},
   "outputs": [
    {
     "data": {
      "text/plain": [
       "tensor([[0.1542, 0.7400, 0.2633],\n",
       "        [0.5337, 0.0146, 0.9187]], dtype=torch.float64)"
      ]
     },
     "execution_count": 9,
     "metadata": {},
     "output_type": "execute_result"
    }
   ],
   "source": [
    "torch.tensor(np.random.rand(2,3))"
   ]
  },
  {
   "cell_type": "code",
   "execution_count": 10,
   "id": "63371471-9823-4c73-9d3d-010a472df380",
   "metadata": {},
   "outputs": [
    {
     "data": {
      "text/plain": [
       "tensor([[ 2.6127,  1.2648, -0.5284],\n",
       "        [-2.7385,  0.5901, -0.1000]])"
      ]
     },
     "execution_count": 10,
     "metadata": {},
     "output_type": "execute_result"
    }
   ],
   "source": [
    "x = torch.randn(2,3)\n",
    "y = torch.randn(2,3)\n",
    "x+y"
   ]
  },
  {
   "cell_type": "code",
   "execution_count": 11,
   "id": "4fd679f6-f010-47a5-8667-318259ed991a",
   "metadata": {},
   "outputs": [
    {
     "data": {
      "text/plain": [
       "tensor([[ 0.8424,  0.6460],\n",
       "        [-1.0042, -2.9688]])"
      ]
     },
     "execution_count": 11,
     "metadata": {},
     "output_type": "execute_result"
    }
   ],
   "source": [
    "x = torch.randn(2,3)\n",
    "y = torch.randn(3,2)\n",
    "torch.mm(x,y)"
   ]
  },
  {
   "cell_type": "code",
   "execution_count": 19,
   "id": "c98d450f-e5c0-4c21-952a-4801fc14d4f3",
   "metadata": {},
   "outputs": [
    {
     "data": {
      "text/plain": [
       "tensor([[ 0.8424,  0.6460],\n",
       "        [-1.0042, -2.9688]])"
      ]
     },
     "execution_count": 19,
     "metadata": {},
     "output_type": "execute_result"
    }
   ],
   "source": [
    "x.mm(y)"
   ]
  },
  {
   "cell_type": "code",
   "execution_count": 15,
   "id": "a19638ff-1dad-479c-9393-062d50d95e3f",
   "metadata": {},
   "outputs": [
    {
     "data": {
      "text/plain": [
       "array([[ 0.84235907,  0.6460462 ],\n",
       "       [-1.0041898 , -2.9687512 ]], dtype=float32)"
      ]
     },
     "execution_count": 15,
     "metadata": {},
     "output_type": "execute_result"
    }
   ],
   "source": [
    "x.numpy().dot(y.numpy())"
   ]
  },
  {
   "cell_type": "code",
   "execution_count": 17,
   "id": "b958b7c2-809b-48f7-91db-cda49d9222b8",
   "metadata": {},
   "outputs": [
    {
     "data": {
      "text/plain": [
       "tensor([[ 1.1042,  0.2536],\n",
       "        [ 0.5371,  0.1490],\n",
       "        [-0.4682,  2.1302]])"
      ]
     },
     "execution_count": 17,
     "metadata": {},
     "output_type": "execute_result"
    }
   ],
   "source": [
    "x.t()"
   ]
  },
  {
   "cell_type": "code",
   "execution_count": 25,
   "id": "5a8e7e26-ff96-4c00-a490-f0f6f3c5c41d",
   "metadata": {},
   "outputs": [
    {
     "data": {
      "text/plain": [
       "(tensor([[ 1.1042,  0.5371, -0.4682],\n",
       "         [ 0.2536,  0.1490,  2.1302]]),\n",
       " tensor([[ 1.1042,  0.5371, -0.4682,  0.2536,  0.1490,  2.1302]]),\n",
       " tensor([[ 1.1042,  0.5371, -0.4682,  0.2536,  0.1490,  2.1302]]))"
      ]
     },
     "execution_count": 25,
     "metadata": {},
     "output_type": "execute_result"
    }
   ],
   "source": [
    "x, x.reshape(1,6), x.view(1,6)"
   ]
  },
  {
   "cell_type": "code",
   "execution_count": 30,
   "id": "391a7f1d-d140-4e4a-82e5-631a27d5dbb5",
   "metadata": {},
   "outputs": [
    {
     "data": {
      "text/plain": [
       "(tensor([[ 1.1042,  0.5371, -0.4682],\n",
       "         [ 0.2536,  0.1490,  2.1302]]),\n",
       " tensor([1.3579, 0.6861, 1.6620]),\n",
       " tensor([1.1731, 2.5329]))"
      ]
     },
     "execution_count": 30,
     "metadata": {},
     "output_type": "execute_result"
    }
   ],
   "source": [
    "x, x.sum(axis=0), x.sum(axis=1)"
   ]
  },
  {
   "cell_type": "code",
   "execution_count": null,
   "id": "c7f1374c-4802-4d49-9681-a11b3898f25d",
   "metadata": {},
   "outputs": [
    {
     "data": {
      "text/plain": [
       "(tensor([[ 1.1042,  0.5371, -0.4682],\n",
       "         [ 0.2536,  0.1490,  2.1302]]),\n",
       " tensor([[ 0.5371, -0.4682]]))"
      ]
     },
     "execution_count": 33,
     "metadata": {},
     "output_type": "execute_result"
    }
   ],
   "source": [
    "x, x[:1, 1:3]"
   ]
  },
  {
   "cell_type": "code",
   "execution_count": 38,
   "id": "b53c88f9-2747-4fbc-b3e5-24a65408907c",
   "metadata": {},
   "outputs": [
    {
     "data": {
      "text/plain": [
       "torch.Size([4, 3])"
      ]
     },
     "execution_count": 38,
     "metadata": {},
     "output_type": "execute_result"
    }
   ],
   "source": [
    "torch.cat((x,x)).shape"
   ]
  },
  {
   "cell_type": "code",
   "execution_count": 39,
   "id": "37f6cff1-69b6-45d5-9c37-960c052bc0cb",
   "metadata": {},
   "outputs": [
    {
     "data": {
      "text/plain": [
       "torch.Size([2, 2, 3])"
      ]
     },
     "execution_count": 39,
     "metadata": {},
     "output_type": "execute_result"
    }
   ],
   "source": [
    "torch.stack((x,x)).shape"
   ]
  },
  {
   "cell_type": "code",
   "execution_count": 40,
   "id": "8efe0b10-5915-42ff-bf9f-e474d2dc2bdd",
   "metadata": {},
   "outputs": [],
   "source": [
    "x = torch.rand(3, 4, requires_grad=True)"
   ]
  },
  {
   "cell_type": "code",
   "execution_count": 44,
   "id": "abbb80e0-2712-42b9-838f-69e31b7f75a7",
   "metadata": {},
   "outputs": [],
   "source": [
    "y = 3 * x + 2"
   ]
  },
  {
   "cell_type": "code",
   "execution_count": 45,
   "id": "17027c2f-53a5-40e0-a2f2-1ee457fd215f",
   "metadata": {},
   "outputs": [],
   "source": [
    "z = y.mean()"
   ]
  },
  {
   "cell_type": "code",
   "execution_count": 47,
   "id": "33e5401a-c07e-456e-b625-22cebdf5f507",
   "metadata": {},
   "outputs": [],
   "source": [
    "z.backward()"
   ]
  },
  {
   "cell_type": "code",
   "execution_count": 49,
   "id": "74db939e-a2be-4c17-af93-8887bf5ab056",
   "metadata": {},
   "outputs": [
    {
     "data": {
      "text/plain": [
       "tensor([[0.2500, 0.2500, 0.2500, 0.2500],\n",
       "        [0.2500, 0.2500, 0.2500, 0.2500],\n",
       "        [0.2500, 0.2500, 0.2500, 0.2500]])"
      ]
     },
     "execution_count": 49,
     "metadata": {},
     "output_type": "execute_result"
    }
   ],
   "source": [
    "x.grad"
   ]
  },
  {
   "cell_type": "code",
   "execution_count": 53,
   "id": "df25c638-0435-4250-b670-f5df73ada093",
   "metadata": {},
   "outputs": [
    {
     "data": {
      "text/plain": [
       "False"
      ]
     },
     "execution_count": 53,
     "metadata": {},
     "output_type": "execute_result"
    }
   ],
   "source": [
    "torch.cuda.is_available()"
   ]
  },
  {
   "cell_type": "markdown",
   "id": "724cde36-c1b2-411c-b078-95b29e06d9e7",
   "metadata": {},
   "source": [
    "### Pre-trained models from torch hub"
   ]
  },
  {
   "cell_type": "code",
   "execution_count": 76,
   "id": "2acf222f-ded3-472c-a81a-f2d45ba3300c",
   "metadata": {},
   "outputs": [],
   "source": [
    "import torch\n",
    "import torch.nn as nn\n",
    "import torch.optim as optim\n",
    "from torch.utils.data import DataLoader\n",
    "from torchvision.datasets import CIFAR10\n",
    "from torchvision.transforms import ToTensor"
   ]
  },
  {
   "cell_type": "code",
   "execution_count": null,
   "id": "30bafc43-7394-43d8-9e78-3b88e2093675",
   "metadata": {},
   "outputs": [],
   "source": [
    "dataset = CIFAR10(\n",
    "    root=\"data\",\n",
    "    train=True,\n",
    "    download=True,\n",
    "    transform=ToTensor()\n",
    ")"
   ]
  },
  {
   "cell_type": "code",
   "execution_count": 78,
   "id": "0b2cccfe-5ee2-48fe-993c-97a12396e191",
   "metadata": {},
   "outputs": [],
   "source": [
    "train_dataloader = DataLoader(dataset, batch_size=64, shuffle=True)"
   ]
  },
  {
   "cell_type": "code",
   "execution_count": 55,
   "id": "2883383a-bafb-4e18-adc1-e3de78f558ce",
   "metadata": {},
   "outputs": [
    {
     "name": "stderr",
     "output_type": "stream",
     "text": [
      "Using cache found in /Users/arthur/.cache/torch/hub/pytorch_vision_v0.10.0\n",
      "Downloading: \"https://download.pytorch.org/models/resnet50-0676ba61.pth\" to /Users/arthur/.cache/torch/hub/checkpoints/resnet50-0676ba61.pth\n",
      "100.0%\n"
     ]
    }
   ],
   "source": [
    "num_classes = 10"
   ]
  },
  {
   "cell_type": "code",
   "execution_count": 71,
   "id": "0c745468-8903-4d7c-b5ea-fba9abd13c67",
   "metadata": {},
   "outputs": [],
   "source": [
    "model = torch.hub.load('pytorch/vision:v0.10.0', 'resnet50', pretrained=True)\n",
    "model.fc = torch.nn.Linear(in_features=2048, out_features=num_classes, bias=True)"
   ]
  },
  {
   "cell_type": "code",
   "execution_count": 80,
   "id": "42f69daa-2cef-4444-85b8-ec8efb37a648",
   "metadata": {},
   "outputs": [],
   "source": [
    "device = torch.device(\"cuda\" if torch.cuda.is_available() else \"cpu\")"
   ]
  },
  {
   "cell_type": "code",
   "execution_count": 82,
   "id": "d8eab277-d46b-4eeb-8899-bdb70c7034b4",
   "metadata": {},
   "outputs": [],
   "source": [
    "criterion = nn.CrossEntropyLoss()\n",
    "optimizer = optim.Adam(model.parameters(), lr=0.0001)"
   ]
  },
  {
   "cell_type": "code",
   "execution_count": null,
   "id": "8257c776-1948-4f27-84da-734af7233eeb",
   "metadata": {},
   "outputs": [],
   "source": [
    "epochs = 1\n",
    "for epoch in range(epochs):\n",
    "    for batch_id, (inputs, labels) in enumerate(train_dataloader):\n",
    "        inputs, labels = inputs.to(device), labels.to(device)\n",
    "        optimizer.zero_grad()\n",
    "        outputs = model(inputs)\n",
    "        loss = criterion(outputs, labels)\n",
    "        loss.backward()\n",
    "        optimizer.step()"
   ]
  },
  {
   "cell_type": "code",
   "execution_count": 98,
   "id": "9b722703-f0b8-408b-b3de-63828c702722",
   "metadata": {},
   "outputs": [],
   "source": [
    "from typing import List, Dict\n",
    "from pydantic import BaseModel, validator\n",
    "from enum import Enum\n",
    "\n",
    "\n",
    "class UnitType(Enum):\n",
    "    SUBJECT = \"subject\"\n",
    "    TOPIC = \"topic\"\n",
    "    CONCEPT = \"concept\"\n",
    "\n",
    "\n",
    "class AllUnitTypes(BaseModel):\n",
    "    units: List[UnitType]\n",
    "\n",
    "    class Config:\n",
    "        arbitrary_types_allowed = True\n"
   ]
  },
  {
   "cell_type": "code",
   "execution_count": 101,
   "id": "91521d8b-35af-404f-b23b-33c7c8c281c5",
   "metadata": {},
   "outputs": [],
   "source": [
    "test = AllUnitTypes(units=[\"subject\", \"topic\", \"concept\"])"
   ]
  },
  {
   "cell_type": "code",
   "execution_count": 109,
   "id": "29fd14b8-94bc-4bf4-b47b-3933e1983317",
   "metadata": {},
   "outputs": [
    {
     "data": {
      "text/plain": [
       "['subject', 'topic', 'concept']"
      ]
     },
     "execution_count": 109,
     "metadata": {},
     "output_type": "execute_result"
    }
   ],
   "source": [
    "[unit_type.value for unit_type in test.units]"
   ]
  },
  {
   "cell_type": "code",
   "execution_count": null,
   "id": "29f7ca84-97bf-4745-a9b7-4a2217c10f28",
   "metadata": {},
   "outputs": [],
   "source": []
  }
 ],
 "metadata": {
  "kernelspec": {
   "display_name": "Python 3 (ipykernel)",
   "language": "python",
   "name": "python3"
  },
  "language_info": {
   "codemirror_mode": {
    "name": "ipython",
    "version": 3
   },
   "file_extension": ".py",
   "mimetype": "text/x-python",
   "name": "python",
   "nbconvert_exporter": "python",
   "pygments_lexer": "ipython3",
   "version": "3.10.6"
  }
 },
 "nbformat": 4,
 "nbformat_minor": 5
}
